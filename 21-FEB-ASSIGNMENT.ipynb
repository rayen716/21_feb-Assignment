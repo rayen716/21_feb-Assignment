{
 "cells": [
  {
   "cell_type": "code",
   "execution_count": null,
   "id": "5dd707ed",
   "metadata": {},
   "outputs": [],
   "source": [
    "Q1. What is Web Scraping? Why is it Used? Give three areas where Web Scraping is used to get data?\n",
    "Ans1. Web scraping is the process of automatically extracting data from websites. It involves writing a program that uses web crawling techniques to navigate through a website's structure.\n",
    "Web scraping is used for a variety of reasons, including:\n",
    "\n",
    "Data collection: Web scraping allows businesses and researchers to gather large amounts of data quickly and efficiently. This data can be used for market research, competitor analysis, or to track trends and patterns over time.\n",
    "Price monitoring: E-commerce businesses can use web scraping to monitor competitor prices and adjust their own pricing strategy accordingly.\n",
    "Lead generation: Web scraping can be used to gather contact information from websites and social media platforms, which can be used for sales or marketing purposes."
   ]
  },
  {
   "cell_type": "code",
   "execution_count": null,
   "id": "480c48ed",
   "metadata": {},
   "outputs": [],
   "source": [
    "Q2. What are the different methods used for Web Scraping?\n",
    "Ans2. There are several methods used for web scraping, including:\n",
    "Parsing HTML: This is the most common method used for web scraping. It involves parsing the HTML code of a webpage to extract the data of interest. This can be done using libraries like BeautifulSoup or lxml in Python.\n",
    "Using APIs: Some websites provide APIs (Application Programming Interfaces) that allow developers to access data from their site in a structured way. APIs are often more reliable and efficient than scraping a site directly."
   ]
  },
  {
   "cell_type": "code",
   "execution_count": null,
   "id": "560e21d8",
   "metadata": {},
   "outputs": [],
   "source": [
    "Q3. What is Beautiful Soup? Why is it used?\n",
    "Ans3. Beautiful Soup is a popular Python library used for web scraping. It provides a simple way to parse HTML and XML documents and extract the data of interest. Beautiful Soup makes it easy to navigate a document's tree structure, search for specific elements and attributes, and extract text and other data from those elements.\n",
    "Some of the main features of Beautiful Soup include:\n",
    "Parsing: Beautiful Soup can parse any HTML or XML document, regardless of how poorly formatted it may be.\n",
    "Search: Beautiful Soup provides a variety of search methods, including searching by element type, attribute, text content, and more."
   ]
  },
  {
   "cell_type": "code",
   "execution_count": null,
   "id": "546c36dd",
   "metadata": {},
   "outputs": [],
   "source": [
    "Q4. Why is flask used in this Web Scraping project?\n",
    "Ans4. Flask is a popular web framework in Python that is often used to build web applications, including those that involve web scraping. Flask provides a simple and lightweight way to create web applications and APIs, which can be used to serve scraped data to users or other applications."
   ]
  },
  {
   "cell_type": "code",
   "execution_count": null,
   "id": "9674736a",
   "metadata": {},
   "outputs": [],
   "source": [
    "Q5. Write the names of AWS services used in this project. Also, explain the use of each service?\n",
    "Ans5. The names of AWS Services used in this project are Codepipeline and Bean Stack."
   ]
  }
 ],
 "metadata": {
  "kernelspec": {
   "display_name": "Python 3 (ipykernel)",
   "language": "python",
   "name": "python3"
  },
  "language_info": {
   "codemirror_mode": {
    "name": "ipython",
    "version": 3
   },
   "file_extension": ".py",
   "mimetype": "text/x-python",
   "name": "python",
   "nbconvert_exporter": "python",
   "pygments_lexer": "ipython3",
   "version": "3.9.13"
  }
 },
 "nbformat": 4,
 "nbformat_minor": 5
}
